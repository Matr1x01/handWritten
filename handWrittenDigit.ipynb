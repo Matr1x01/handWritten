{
 "metadata": {
  "language_info": {
   "codemirror_mode": {
    "name": "ipython",
    "version": 3
   },
   "file_extension": ".py",
   "mimetype": "text/x-python",
   "name": "python",
   "nbconvert_exporter": "python",
   "pygments_lexer": "ipython3",
   "version": "3.8.5"
  },
  "orig_nbformat": 2,
  "kernelspec": {
   "name": "python385jvsc74a57bd0b3ba2566441a7c06988d0923437866b63cedc61552a5af99d1f4fb67d367b25f",
   "display_name": "Python 3.8.5 64-bit ('base': conda)"
  }
 },
 "nbformat": 4,
 "nbformat_minor": 2,
 "cells": [
  {
   "cell_type": "code",
   "execution_count": 1,
   "metadata": {},
   "outputs": [],
   "source": [
    "from PIL import Image\n",
    "import numpy as np\n",
    "import matplotlib.pyplot as plt\n",
    "import os\n",
    "from keras.models import Sequential\n",
    "from keras.layers.core import Dense, Activation\n",
    "from keras.utils import np_utils"
   ]
  },
  {
   "cell_type": "code",
   "execution_count": 2,
   "metadata": {},
   "outputs": [],
   "source": [
    "path = r\"G:\\digit_data\\trainingSet\\trainingSet\""
   ]
  },
  {
   "cell_type": "code",
   "execution_count": 3,
   "metadata": {},
   "outputs": [],
   "source": [
    "X_train = []\n",
    "Y_train = []"
   ]
  },
  {
   "cell_type": "code",
   "execution_count": 4,
   "metadata": {},
   "outputs": [],
   "source": [
    "dirPath, dirName, files = next(os.walk(path))"
   ]
  },
  {
   "cell_type": "code",
   "execution_count": 5,
   "metadata": {},
   "outputs": [
    {
     "output_type": "stream",
     "name": "stdout",
     "text": [
      "G:\\digit_data\\trainingSet\\trainingSet\\0\n",
      "G:\\digit_data\\trainingSet\\trainingSet\\1\n",
      "G:\\digit_data\\trainingSet\\trainingSet\\2\n",
      "G:\\digit_data\\trainingSet\\trainingSet\\3\n",
      "G:\\digit_data\\trainingSet\\trainingSet\\4\n",
      "G:\\digit_data\\trainingSet\\trainingSet\\5\n",
      "G:\\digit_data\\trainingSet\\trainingSet\\6\n",
      "G:\\digit_data\\trainingSet\\trainingSet\\7\n",
      "G:\\digit_data\\trainingSet\\trainingSet\\8\n",
      "G:\\digit_data\\trainingSet\\trainingSet\\9\n"
     ]
    }
   ],
   "source": [
    "for dirs in dirName:\n",
    "    nowDir = path+\"\\\\\"+dirs\n",
    "    print(nowDir)\n",
    "    nowfiles = os.listdir(nowDir)\n",
    "    for file in nowfiles:\n",
    "        nowPath = nowDir+\"\\\\\"+file\n",
    "        img = Image.open(nowPath)\n",
    "        img = np.asarray(img)\n",
    "        X_train.append(img.flatten())\n",
    "        Y_train.append(int(dirs))"
   ]
  },
  {
   "cell_type": "code",
   "execution_count": 6,
   "metadata": {},
   "outputs": [],
   "source": [
    "X_train, Y_train = np.array(X_train).astype(\"float32\"), np.array(Y_train)"
   ]
  },
  {
   "cell_type": "code",
   "execution_count": 7,
   "metadata": {},
   "outputs": [],
   "source": [
    "input_size = 784\n",
    "hidden1 = 512\n",
    "hidden2 = 256\n",
    "output_size = 10"
   ]
  },
  {
   "cell_type": "code",
   "execution_count": 8,
   "metadata": {},
   "outputs": [],
   "source": [
    "X_train /= 255\n",
    "Y_train = np_utils.to_categorical(Y_train, output_size)"
   ]
  },
  {
   "cell_type": "code",
   "execution_count": 11,
   "metadata": {},
   "outputs": [
    {
     "output_type": "stream",
     "name": "stdout",
     "text": [
      "Epoch 1/10\n",
      "2100/2100 - 5s - loss: 0.5376 - accuracy: 0.8618\n",
      "Epoch 2/10\n",
      "2100/2100 - 5s - loss: 0.2581 - accuracy: 0.9265\n",
      "Epoch 3/10\n",
      "2100/2100 - 5s - loss: 0.2045 - accuracy: 0.9412\n",
      "Epoch 4/10\n",
      "2100/2100 - 5s - loss: 0.1698 - accuracy: 0.9510\n",
      "Epoch 5/10\n",
      "2100/2100 - 5s - loss: 0.1440 - accuracy: 0.9591\n",
      "Epoch 6/10\n",
      "2100/2100 - 5s - loss: 0.1244 - accuracy: 0.9652\n",
      "Epoch 7/10\n",
      "2100/2100 - 5s - loss: 0.1091 - accuracy: 0.9700\n",
      "Epoch 8/10\n",
      "2100/2100 - 5s - loss: 0.0968 - accuracy: 0.9734\n",
      "Epoch 9/10\n",
      "2100/2100 - 5s - loss: 0.0861 - accuracy: 0.9759\n",
      "Epoch 10/10\n",
      "2100/2100 - 5s - loss: 0.0775 - accuracy: 0.9784\n"
     ]
    },
    {
     "output_type": "execute_result",
     "data": {
      "text/plain": [
       "<tensorflow.python.keras.callbacks.History at 0x1a8ba8391c0>"
      ]
     },
     "metadata": {},
     "execution_count": 11
    }
   ],
   "source": [
    "model = Sequential()\n",
    "model.add(Dense(hidden1, input_dim=input_size, activation='relu'))\n",
    "model.add(Dense(hidden2, activation='relu'))\n",
    "model.add(Dense(output_size, activation='softmax'))\n",
    "\n",
    "model.compile(loss='categorical_crossentropy',\n",
    "              metrics=['accuracy'], optimizer='sgd')\n",
    "\n",
    "model.fit(X_train, Y_train, batch_size=20, epochs=10, verbose=2)"
   ]
  },
  {
   "cell_type": "code",
   "execution_count": 10,
   "metadata": {},
   "outputs": [],
   "source": [
    "def testit():\n",
    "    testPath = r\"C:\\Users\\Matrix\\Desktop\\dataset\\test.jpg\"\n",
    "    test = Image.open(testPath).resize((28,28)).convert(\"L\")\n",
    "    test = np.asarray(test).flatten()\n",
    "    print(model.predict_classes(np.array([test])))"
   ]
  },
  {
   "cell_type": "code",
   "execution_count": null,
   "metadata": {},
   "outputs": [],
   "source": []
  }
 ]
}